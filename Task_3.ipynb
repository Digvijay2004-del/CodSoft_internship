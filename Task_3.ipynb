{
  "nbformat": 4,
  "nbformat_minor": 0,
  "metadata": {
    "colab": {
      "provenance": [],
      "authorship_tag": "ABX9TyOrKDTMxW3YNak3MZNjpi9b",
      "include_colab_link": true
    },
    "kernelspec": {
      "name": "python3",
      "display_name": "Python 3"
    },
    "language_info": {
      "name": "python"
    }
  },
  "cells": [
    {
      "cell_type": "markdown",
      "metadata": {
        "id": "view-in-github",
        "colab_type": "text"
      },
      "source": [
        "<a href=\"https://colab.research.google.com/github/Digvijay2004-del/CodSoft_internship/blob/main/Task_3.ipynb\" target=\"_parent\"><img src=\"https://colab.research.google.com/assets/colab-badge.svg\" alt=\"Open In Colab\"/></a>"
      ]
    },
    {
      "cell_type": "code",
      "execution_count": null,
      "metadata": {
        "id": "8Fu2zMamK-GJ",
        "colab": {
          "base_uri": "https://localhost:8080/"
        },
        "outputId": "7ace58a2-79cc-4640-c3ed-d2a78738772e"
      },
      "outputs": [
        {
          "output_type": "stream",
          "name": "stdout",
          "text": [
            "\n",
            "Choose rock, paper, or scissors (or 'quit' to stop playing):\n",
            "rock\n",
            "You chose: rock\n",
            "Computer chose: rock\n",
            "It's a tie!\n",
            "Score - You: 0, Computer: 0\n",
            "Do you want to play again? (yes/no): yes\n",
            "\n",
            "Choose rock, paper, or scissors (or 'quit' to stop playing):\n"
          ]
        }
      ],
      "source": [
        "import random\n",
        "\n",
        "def get_computer_choice():\n",
        "    return random.choice(['rock', 'paper', 'scissors'])\n",
        "\n",
        "def determine_winner(user_choice, computer_choice):\n",
        "    if user_choice == computer_choice:\n",
        "        return \"It's a tie!\"\n",
        "    elif (user_choice == 'rock' and computer_choice == 'scissors') or \\\n",
        "         (user_choice == 'scissors' and computer_choice == 'paper') or \\\n",
        "         (user_choice == 'paper' and computer_choice == 'rock'):\n",
        "        return \"You win!\"\n",
        "    else:\n",
        "        return \"You lose!\"\n",
        "\n",
        "def play_game():\n",
        "    user_score = 0\n",
        "    computer_score = 0\n",
        "\n",
        "    while True:\n",
        "        print(\"\\nChoose rock, paper, or scissors (or 'quit' to stop playing):\")\n",
        "        user_choice = input().lower()\n",
        "\n",
        "        if user_choice == 'quit':\n",
        "            break\n",
        "\n",
        "        if user_choice not in ['rock', 'paper', 'scissors']:\n",
        "            print(\"Invalid choice, please try again.\")\n",
        "            continue\n",
        "\n",
        "        computer_choice = get_computer_choice()\n",
        "        print(f\"You chose: {user_choice}\")\n",
        "        print(f\"Computer chose: {computer_choice}\")\n",
        "\n",
        "        result = determine_winner(user_choice, computer_choice)\n",
        "        print(result)\n",
        "\n",
        "        if result == \"You win!\":\n",
        "            user_score += 1\n",
        "        elif result == \"You lose!\":\n",
        "            computer_score += 1\n",
        "\n",
        "        print(f\"Score - You: {user_score}, Computer: {computer_score}\")\n",
        "\n",
        "        play_again = input(\"Do you want to play again? (yes/no): \").lower()\n",
        "        if play_again != 'yes':\n",
        "            break\n",
        "\n",
        "    print(\"Thank you for playing!\")\n",
        "    print(f\"Final Score - You: {user_score}, Computer: {computer_score}\")\n",
        "\n",
        "if __name__ == \"__main__\":\n",
        "    play_game()\n",
        "\n"
      ]
    }
  ]
}